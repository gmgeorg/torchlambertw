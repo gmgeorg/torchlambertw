{
 "cells": [
  {
   "cell_type": "markdown",
   "id": "d83ec1ad-f627-4d6f-b202-cd780921e976",
   "metadata": {},
   "source": [
    "# Demo of Lambert W function in torch\n",
    "\n",
    "This notebook illustrates the implementation of the `lambertw` function as a native `torch` implementation."
   ]
  },
  {
   "cell_type": "code",
   "execution_count": 1,
   "id": "42eb4be5-7c2d-4e7e-9f6f-139f496614ec",
   "metadata": {},
   "outputs": [],
   "source": [
    "%load_ext autoreload\n",
    "%autoreload 2"
   ]
  },
  {
   "cell_type": "code",
   "execution_count": 2,
   "id": "2777ac7e-9ec3-493f-827e-336caf99df59",
   "metadata": {
    "tags": []
   },
   "outputs": [],
   "source": [
    "# Only run if not already on PYTHONPATH / venv\n",
    "import os\n",
    "import sys\n",
    "import pathlib\n",
    "from os.path import dirname\n",
    "parent_path = dirname(pathlib.Path(pathlib.Path(os.getcwd())))\n",
    "\n",
    "if parent_path not in sys.path:\n",
    "    sys.path.insert(0, parent_path)"
   ]
  },
  {
   "cell_type": "code",
   "execution_count": 3,
   "id": "04b249c8-54ad-4dc4-99e6-88771cfdb67e",
   "metadata": {
    "tags": []
   },
   "outputs": [],
   "source": [
    "import torch\n",
    "import scipy.special\n",
    "import numpy as np\n",
    "\n",
    "# import module for demo\n",
    "import torchlambertw as tlw\n",
    "import torchlambertw.special"
   ]
  },
  {
   "cell_type": "markdown",
   "id": "8b7ebf11-4e8c-42f6-b937-de01352f77e0",
   "metadata": {},
   "source": [
    "## Some data examples\n",
    "\n",
    "Here are some examples of applying the W(z) function to z. \n",
    "\n",
    "See wiki page for some known identities, e.g., `W(0) = 0` or `W(-exp(-1)) = -1`."
   ]
  },
  {
   "cell_type": "code",
   "execution_count": 4,
   "id": "6ead1141-b467-43ff-bc11-82b283ba6738",
   "metadata": {
    "tags": []
   },
   "outputs": [
    {
     "name": "stdout",
     "output_type": "stream",
     "text": [
      "z = 0.000000; scipy W(z) = 0.000000; torch W(z) = 0.000000\n",
      "z = 1.000000; scipy W(z) = 0.567143; torch W(z) = 0.567143\n",
      "z = -0.367878; scipy W(z) = -0.997670; torch W(z) = -0.997671\n"
     ]
    }
   ],
   "source": [
    "for z in [0, 1, tlw.special._M_EXP_INV + 1e-6]:\n",
    "    print(\"z = %f; scipy W(z) = %f; torch W(z) = %f\" % \n",
    "          (z, \n",
    "           scipy.special.lambertw(z).real,\n",
    "           tlw.special.lambertw(torch.tensor([z])).numpy()))"
   ]
  },
  {
   "cell_type": "code",
   "execution_count": 5,
   "id": "599b9766-d67a-42a7-aa38-7d844debea97",
   "metadata": {
    "tags": []
   },
   "outputs": [
    {
     "data": {
      "text/plain": [
       "tensor([[0.0000, 0.5671, 0.8526],\n",
       "        [   nan, 1.0499, 1.2022]])"
      ]
     },
     "execution_count": 5,
     "metadata": {},
     "output_type": "execute_result"
    }
   ],
   "source": [
    "arr = [[0, 1, 2], [-1, 3, 4.]]\n",
    "arr_t = torch.tensor(arr)\n",
    "tlw.special.lambertw(arr_t)"
   ]
  },
  {
   "cell_type": "code",
   "execution_count": 6,
   "id": "9d502534-7836-4a4d-abdb-782f986c28f2",
   "metadata": {
    "tags": []
   },
   "outputs": [
    {
     "data": {
      "text/plain": [
       "tensor([-1.0000,  2.0000, -0.2500, -0.3679,     inf,  0.0000],\n",
       "       dtype=torch.float64)"
      ]
     },
     "execution_count": 6,
     "metadata": {},
     "output_type": "execute_result"
    }
   ],
   "source": [
    "arr = [-1, 2.,-0.25, tlw.special._M_EXP_INV, np.inf, 0.]\n",
    "arr_t = torch.tensor(arr)\n",
    "arr_t"
   ]
  },
  {
   "cell_type": "code",
   "execution_count": 7,
   "id": "33cb6bba-0d57-452a-997a-31741c6d8fa7",
   "metadata": {
    "tags": []
   },
   "outputs": [
    {
     "data": {
      "text/plain": [
       "tensor([    nan,  0.8526, -0.3574, -1.0000,     inf,  0.0000])"
      ]
     },
     "execution_count": 7,
     "metadata": {},
     "output_type": "execute_result"
    }
   ],
   "source": [
    "# Compute principal branch (k=0)\n",
    "tlw.special.lambertw(arr_t, k=0)"
   ]
  },
  {
   "cell_type": "code",
   "execution_count": 8,
   "id": "da37c2a0-a408-4cb7-b163-f1d5f7b98280",
   "metadata": {
    "tags": []
   },
   "outputs": [
    {
     "data": {
      "text/plain": [
       "array([-0.31813151+1.3372357j,  0.8526055 +0.j       ,\n",
       "       -0.35740296+0.j       ,         nan      +nanj,\n",
       "               inf+0.j       ,  0.        +0.j       ])"
      ]
     },
     "execution_count": 8,
     "metadata": {},
     "output_type": "execute_result"
    }
   ],
   "source": [
    "# first item is not real number; remaining match lambertw implementation\n",
    "scipy.special.lambertw(arr)"
   ]
  },
  {
   "cell_type": "code",
   "execution_count": 9,
   "id": "dab9a9a4-0893-46a7-a15d-acf4ba513615",
   "metadata": {
    "tags": []
   },
   "outputs": [
    {
     "data": {
      "text/plain": [
       "tensor([    nan,     nan, -2.1533, -1.0000,     nan,    -inf])"
      ]
     },
     "execution_count": 9,
     "metadata": {},
     "output_type": "execute_result"
    }
   ],
   "source": [
    "# Compute non-principal branch (k=-1)\n",
    "tlw.special.lambertw(arr_t, k=-1)"
   ]
  },
  {
   "cell_type": "markdown",
   "id": "d8719a81-ad56-412b-88ca-7330ec45ea2e",
   "metadata": {},
   "source": [
    "## Plot Lambert W function\n",
    "\n",
    "See here for an example of how to replicate the figure on the [Lambert W Function](https://en.wikipedia.org/wiki/Lambert_W_function) Wikipedia page:"
   ]
  },
  {
   "cell_type": "code",
   "execution_count": 10,
   "id": "41f5023f-9cea-4382-97e7-cf011173f5d8",
   "metadata": {
    "tags": []
   },
   "outputs": [
    {
     "data": {
      "image/png": "[encoded data removed]",
      "text/plain": [
       "<Figure size 576x360 with 1 Axes>"
      ]
     },
     "metadata": {
      "needs_background": "light"
     },
     "output_type": "display_data"
    }
   ],
   "source": [
    "# plot lambertw function\n",
    "\n",
    "import numpy as np\n",
    "import matplotlib.pyplot as plt\n",
    "\n",
    "def plot_lambertW(range_start, range_end, num_points=2000):\n",
    "    x_values = np.linspace(range_start, range_end, num_points)\n",
    "    x_values_torch = torch.tensor(x_values)\n",
    "    principal_branch_values = tlw.special.lambertw(x_values_torch, k=0).numpy()\n",
    "    non_principal_branch_values = tlw.special.lambertw(x_values_torch, k=-1).numpy()\n",
    "    \n",
    "    plt.figure(figsize=(8, 5))\n",
    "    plt.plot(x_values, principal_branch_values, label=\"Principal Branch\", color='blue')\n",
    "    plt.plot(x_values, non_principal_branch_values, label=\"Non-Principal Branch\", color='red')\n",
    "    \n",
    "    plt.title(\"Lambert W Function\")\n",
    "    plt.xlabel(\"x\")\n",
    "    plt.ylabel(\"W(x)\")\n",
    "    plt.xlim(range_start, range_end)\n",
    "    plt.ylim(-4, 2)  # same range as wiki figure\n",
    "    plt.axhline(0, color='black', linestyle='--', linewidth=0.5)\n",
    "    plt.axvline(0, color='black', linestyle='--', linewidth=0.5)\n",
    "    plt.legend()\n",
    "    \n",
    "    plt.grid(True)\n",
    "    plt.show()\n",
    "\n",
    "# Example usage:\n",
    "plot_lambertW(-1, 6)\n"
   ]
  },
  {
   "cell_type": "code",
   "execution_count": null,
   "id": "5fca7a74-5d2a-452e-bf14-c1ee25d078e2",
   "metadata": {},
   "outputs": [],
   "source": []
  }
 ],
 "metadata": {
  "kernelspec": {
   "display_name": "Python 3",
   "language": "python",
   "name": "python3"
  },
  "language_info": {
   "codemirror_mode": {
    "name": "ipython",
    "version": 3
   },
   "file_extension": ".py",
   "mimetype": "text/x-python",
   "name": "python",
   "nbconvert_exporter": "python",
   "pygments_lexer": "ipython3",
   "version": "3.8.10"
  }
 },
 "nbformat": 4,
 "nbformat_minor": 5
}
