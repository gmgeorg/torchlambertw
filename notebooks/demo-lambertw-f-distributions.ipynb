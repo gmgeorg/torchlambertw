{
 "cells": [
  {
   "cell_type": "markdown",
   "id": "d83ec1ad-f627-4d6f-b202-cd780921e976",
   "metadata": {},
   "source": [
    "# Demo of Lambert W x F distributions in torch\n",
    "\n",
    "This notebook illustrates the implementation of the Lambert W x F distributions using `torch` and `torch.distributions.Distribution` objects.\n",
    "\n",
    "This is based on work in \n",
    "\n",
    "\n",
    "Goerg (2011). Lambert W random variables—a new family of generalized skewed distributions with applications to risk estimation. Ann. Appl. Stat. 5 (3) 2197 - 2230, 2011. https://doi.org/10.1214/11-AOAS457\n",
    "\n",
    "Goerg (2015) The Lambert Way to Gaussianize Heavy-Tailed Data with the Inverse of Tukey’s h Transformation as a Special Case. The Scientific World Journal. Volume 2015 | Article ID 909231 | https://doi.org/10.1155/2015/909231\n"
   ]
  },
  {
   "cell_type": "code",
   "execution_count": 1,
   "id": "42eb4be5-7c2d-4e7e-9f6f-139f496614ec",
   "metadata": {},
   "outputs": [],
   "source": [
    "%load_ext autoreload\n",
    "%autoreload 2"
   ]
  },
  {
   "cell_type": "code",
   "execution_count": 2,
   "id": "2777ac7e-9ec3-493f-827e-336caf99df59",
   "metadata": {
    "tags": []
   },
   "outputs": [],
   "source": [
    "# Only run if not already on PYTHONPATH / venv\n",
    "import os\n",
    "import sys\n",
    "import pathlib\n",
    "from os.path import dirname\n",
    "parent_path = dirname(pathlib.Path(pathlib.Path(os.getcwd())))\n",
    "\n",
    "if parent_path not in sys.path:\n",
    "    sys.path.insert(0, parent_path)"
   ]
  },
  {
   "cell_type": "code",
   "execution_count": 3,
   "id": "04b249c8-54ad-4dc4-99e6-88771cfdb67e",
   "metadata": {
    "tags": []
   },
   "outputs": [],
   "source": [
    "import torch\n",
    "import scipy.special\n",
    "import numpy as np\n",
    "import matplotlib.pyplot as plt\n",
    "import pandas as pd\n",
    "import seaborn as sns\n",
    "\n",
    "# import module for demo\n",
    "import torchlambertw as tlw\n",
    "import torchlambertw.special\n",
    "from torchlambertw import distributions as tlwd"
   ]
  },
  {
   "cell_type": "markdown",
   "id": "8b7ebf11-4e8c-42f6-b937-de01352f77e0",
   "metadata": {},
   "source": [
    "## Lambert W x Gaussian\n",
    "\n",
    "\n",
    "Here is an illustration of a heavy-tail Lambert W x Gaussian distribution, which takes a Gaussian input and turns it into something heavy-tailed. If `tailweight = 0` then its just a Gaussian again.\n"
   ]
  },
  {
   "cell_type": "code",
   "execution_count": 5,
   "id": "3c5d0428-b48a-43d3-bdd5-5a4a67e24c5f",
   "metadata": {
    "tags": []
   },
   "outputs": [
    {
     "data": {
      "text/plain": [
       "(TailLambertWNormal(tailweight: 0.25),\n",
       " torchlambertw.distributions.TailLambertWNormal,\n",
       " True)"
      ]
     },
     "execution_count": 5,
     "metadata": {},
     "output_type": "execute_result"
    }
   ],
   "source": [
    "# Use a slightly heavy-tailed distribution with a tail parameter of 0.25 (ie moments < 1/0.25 = 4 exist).\n",
    "m = tlwd.TailLambertWNormal(loc=1.0, scale=3.0, tailweight=0.25)\n",
    "m, type(m), isinstance(m, torch.distributions.Distribution)"
   ]
  },
  {
   "cell_type": "markdown",
   "id": "781a8e6a-4b2b-4354-a946-bd8da20d363e",
   "metadata": {},
   "source": [
    "This is a `torch.distributions.Distributions` object; thus it has all the usual supported methods of distributions like sampling (`.sample()`), probability evaluation (`.log_prob()`), and moments (`.mean`, `.mode`, `.variance`, ...)"
   ]
  },
  {
   "cell_type": "code",
   "execution_count": 6,
   "id": "f1607514-de90-4a74-b898-e92ba871bc24",
   "metadata": {
    "tags": []
   },
   "outputs": [
    {
     "data": {
      "text/plain": [
       "tensor([7.2207, 0.1102])"
      ]
     },
     "execution_count": 6,
     "metadata": {},
     "output_type": "execute_result"
    }
   ],
   "source": [
    "torch.manual_seed(0)\n",
    "m.sample((2,)) "
   ]
  },
  {
   "cell_type": "code",
   "execution_count": 7,
   "id": "a1fb307c-31bb-44eb-a292-f94ebf962bcb",
   "metadata": {
    "tags": []
   },
   "outputs": [
    {
     "name": "stdout",
     "output_type": "stream",
     "text": [
      "tensor(0.2500) Real() tensor(1.) tensor(25.4558)\n"
     ]
    }
   ],
   "source": [
    "print(m.tailweight, m.support, m.mean, m.variance)"
   ]
  },
  {
   "cell_type": "code",
   "execution_count": 8,
   "id": "3b1aa810-677a-429a-aac9-f0688b16938e",
   "metadata": {
    "tags": []
   },
   "outputs": [
    {
     "data": {
      "text/plain": [
       "<AxesSubplot:ylabel='Count'>"
      ]
     },
     "execution_count": 8,
     "metadata": {},
     "output_type": "execute_result"
    },
    {
     "data": {
      "image/png": "[encoded data removed]",
      "text/plain": [
       "<Figure size 432x288 with 1 Axes>"
      ]
     },
     "metadata": {
      "needs_background": "light"
     },
     "output_type": "display_data"
    }
   ],
   "source": [
    "y = m.sample((1000,)).numpy().ravel()\n",
    "\n",
    "sns.histplot(y)"
   ]
  },
  {
   "cell_type": "code",
   "execution_count": 10,
   "id": "ad015d56-129e-4fda-ad6e-d1092d493c4c",
   "metadata": {
    "tags": []
   },
   "outputs": [
    {
     "data": {
      "text/html": [
       "<div>\n",
       "<style scoped>\n",
       "    .dataframe tbody tr th:only-of-type {\n",
       "        vertical-align: middle;\n",
       "    }\n",
       "\n",
       "    .dataframe tbody tr th {\n",
       "        vertical-align: top;\n",
       "    }\n",
       "\n",
       "    .dataframe thead th {\n",
       "        text-align: right;\n",
       "    }\n",
       "</style>\n",
       "<table border=\"1\" class=\"dataframe\">\n",
       "  <thead>\n",
       "    <tr style=\"text-align: right;\">\n",
       "      <th></th>\n",
       "      <th>loglik</th>\n",
       "    </tr>\n",
       "  </thead>\n",
       "  <tbody>\n",
       "    <tr>\n",
       "      <th>normal</th>\n",
       "      <td>-3075.827637</td>\n",
       "    </tr>\n",
       "    <tr>\n",
       "      <th>normal_again</th>\n",
       "      <td>-3075.827637</td>\n",
       "    </tr>\n",
       "    <tr>\n",
       "      <th>lambertw_normal</th>\n",
       "      <td>-2869.566895</td>\n",
       "    </tr>\n",
       "  </tbody>\n",
       "</table>\n",
       "</div>"
      ],
      "text/plain": [
       "                      loglik\n",
       "normal          -3075.827637\n",
       "normal_again    -3075.827637\n",
       "lambertw_normal -2869.566895"
      ]
     },
     "execution_count": 10,
     "metadata": {},
     "output_type": "execute_result"
    },
    {
     "data": {
      "image/png": "[encoded data removed]",
      "text/plain": [
       "<Figure size 432x288 with 1 Axes>"
      ]
     },
     "metadata": {
      "needs_background": "light"
     },
     "output_type": "display_data"
    }
   ],
   "source": [
    "# assume its normal and eval likelihood\n",
    "norm = torch.distributions.Normal(loc=y.mean(), scale=y.std())\n",
    "# Set tailweight = 0 ('delta' in the papers), then a Lambert W x Normal is identical to Normal\n",
    "norm_again = tlwd.TailLambertWNormal(loc=y.mean(), scale=y.std(), tailweight=0.0)\n",
    "\n",
    "# Compare likelihood of all three distributions; since data was generated from `m`, should have highest likelihood.\n",
    "def _loglik(dist, data):\n",
    "    return dist.log_prob(torch.tensor(data)).sum().numpy().ravel()[0]\n",
    "                         \n",
    "total_logliks = pd.Series(\n",
    "    {\"normal\": _loglik(norm, y),\n",
    "     \"normal_again\": _loglik(norm_again, y),\n",
    "     \"lambertw_normal\": _loglik(m, y)})\n",
    "total_logliks.plot()\n",
    "total_logliks.to_frame(\"loglik\")\n"
   ]
  },
  {
   "cell_type": "markdown",
   "id": "d8719a81-ad56-412b-88ca-7330ec45ea2e",
   "metadata": {
    "tags": []
   },
   "source": [
    "# Skewed Lambert W x F distributions\n",
    "\n",
    "For introducting skewness one can use the skewed Lambert W x F distributions; particularly\n",
    "interesting are skewed Lambert W x Gaussian distributions as they can be used to transform Normal data to skewed data (and back)."
   ]
  },
  {
   "cell_type": "code",
   "execution_count": 9,
   "id": "c80ad7b4-4ae0-4b4f-a793-a15283829a60",
   "metadata": {},
   "outputs": [
    {
     "data": {
      "text/plain": [
       "<AxesSubplot:ylabel='Count'>"
      ]
     },
     "execution_count": 9,
     "metadata": {},
     "output_type": "execute_result"
    },
    {
     "data": {
      "image/png": "[encoded data removed]",
      "text/plain": [
       "<Figure size 432x288 with 1 Axes>"
      ]
     },
     "metadata": {
      "needs_background": "light"
     },
     "output_type": "display_data"
    }
   ],
   "source": [
    "torch.manual_seed(0)\n",
    "m = tlwd.SkewLambertWNormal(loc=1.0, scale=3.0, skewweight=0.25)\n",
    "y = m.sample((1000,)).numpy().ravel()\n",
    "\n",
    "sns.histplot(y)"
   ]
  },
  {
   "cell_type": "markdown",
   "id": "78b51e41-3633-4e97-b1c7-a4f4093688ce",
   "metadata": {},
   "source": [
    "## Skewed Lambert W x Exponential distributions\n",
    "\n",
    "Lambert W x F distribution can be generated for any arbitratry F.  Here we show an example of a skewed Lambert W x Exponential distribution. For `skewweight > 0` , this will be more (right) skewed than a baseline exponential distribution. \n",
    "\n",
    "See Goerg (2011) and Kaarik et al. (2023)."
   ]
  },
  {
   "cell_type": "code",
   "execution_count": 13,
   "id": "2c137b8d-5827-4f1b-bf55-6fcc1cf41ea7",
   "metadata": {
    "tags": []
   },
   "outputs": [
    {
     "name": "stdout",
     "output_type": "stream",
     "text": [
      "mean: theoretical 0.520833; empirical: 0.481116\n"
     ]
    }
   ],
   "source": [
    "torch.manual_seed(0)\n",
    "m = tlwd.SkewLambertWExponential(rate=3.0, skewweight=0.2)\n",
    "y = m.sample((1000,)).numpy().ravel()\n",
    "print(\"mean: theoretical %f; empirical: %f\" % (m.mean.numpy(), np.mean(y)))"
   ]
  },
  {
   "cell_type": "markdown",
   "id": "db4be3a5-5e93-4383-a0f8-d40d705a1e21",
   "metadata": {},
   "source": [
    "Mean is larger than the 1/3. rate of the baseline exponential distribution because of the longer tail, which is also clearly visible in density chart and qqplot."
   ]
  },
  {
   "cell_type": "code",
   "execution_count": 14,
   "id": "0bb9814e-8662-4c46-b3e9-d5eed22a0f28",
   "metadata": {
    "tags": []
   },
   "outputs": [
    {
     "data": {
      "text/plain": [
       "<AxesSubplot:ylabel='Count'>"
      ]
     },
     "execution_count": 14,
     "metadata": {},
     "output_type": "execute_result"
    },
    {
     "data": {
      "image/png": "[encoded data removed]",
      "text/plain": [
       "<Figure size 432x288 with 1 Axes>"
      ]
     },
     "metadata": {
      "needs_background": "light"
     },
     "output_type": "display_data"
    }
   ],
   "source": [
    "sns.histplot(y)"
   ]
  },
  {
   "cell_type": "markdown",
   "id": "1574df0b-7580-4139-b68c-1a534d8a5e80",
   "metadata": {},
   "source": [
    "# DIY: Create your own Lambert W x F distribution\n",
    "\n",
    "You can use Lambert W x F distribution by using the general purpose `TailLambertWDistribution` class that accepts any input distribution."
   ]
  },
  {
   "cell_type": "code",
   "execution_count": 15,
   "id": "047e220e-c84d-4625-b7c6-445f463379a5",
   "metadata": {
    "tags": []
   },
   "outputs": [],
   "source": [
    "lw_norm = torchlambertw.distributions.TailLambertWNormal(\n",
    "    loc=0., scale=1., tailweight=0.3\n",
    ")\n",
    "\n",
    "lw_dist = torchlambertw.distributions.TailLambertWDistribution(\n",
    "    base_distribution=torch.distributions.Normal,\n",
    "    base_dist_args={\"loc\": 0.0, \"scale\": 0.1},\n",
    "    tailweight=0.3)\n"
   ]
  },
  {
   "cell_type": "code",
   "execution_count": 16,
   "id": "ad80ed04-850e-41d9-bdec-43562d66e5a4",
   "metadata": {
    "tags": []
   },
   "outputs": [
    {
     "data": {
      "text/plain": [
       "(1000,)"
      ]
     },
     "execution_count": 16,
     "metadata": {},
     "output_type": "execute_result"
    }
   ],
   "source": [
    "torch.manual_seed(0)\n",
    "\n",
    "x = lw_dist.sample((1000,)).numpy()\n",
    "x.shape"
   ]
  },
  {
   "cell_type": "code",
   "execution_count": 17,
   "id": "1d71b25d-47fa-4569-b3f9-512335a30b9e",
   "metadata": {
    "tags": []
   },
   "outputs": [
    {
     "data": {
      "text/plain": [
       "<AxesSubplot:ylabel='Proportion'>"
      ]
     },
     "execution_count": 17,
     "metadata": {},
     "output_type": "execute_result"
    },
    {
     "data": {
      "image/png": "[encoded data removed]",
      "text/plain": [
       "<Figure size 432x288 with 1 Axes>"
      ]
     },
     "metadata": {
      "needs_background": "light"
     },
     "output_type": "display_data"
    }
   ],
   "source": [
    "sns.ecdfplot(x)"
   ]
  },
  {
   "cell_type": "code",
   "execution_count": 18,
   "id": "ec8e6c52-81c1-49b0-9905-a0c5cb3fd546",
   "metadata": {
    "tags": []
   },
   "outputs": [
    {
     "data": {
      "text/plain": [
       "<AxesSubplot:ylabel='Count'>"
      ]
     },
     "execution_count": 18,
     "metadata": {},
     "output_type": "execute_result"
    },
    {
     "data": {
      "image/png": "[encoded data removed]",
      "text/plain": [
       "<Figure size 432x288 with 1 Axes>"
      ]
     },
     "metadata": {
      "needs_background": "light"
     },
     "output_type": "display_data"
    }
   ],
   "source": [
    "sns.histplot(x)"
   ]
  },
  {
   "cell_type": "markdown",
   "id": "b6d03857-9eac-454f-8264-bb49aca75427",
   "metadata": {},
   "source": [
    "## Generate a Lambert W x Weibull distribution"
   ]
  },
  {
   "cell_type": "code",
   "execution_count": 19,
   "id": "5735a165-31de-4e6a-9514-22a1c69218df",
   "metadata": {
    "tags": []
   },
   "outputs": [
    {
     "data": {
      "image/png": "[encoded data removed]",
      "text/plain": [
       "<Figure size 432x288 with 1 Axes>"
      ]
     },
     "metadata": {
      "needs_background": "light"
     },
     "output_type": "display_data"
    }
   ],
   "source": [
    "weibull_args = {\"concentration\": 3., \"scale\": 10.}\n",
    "input_distr = torch.distributions.Weibull(**weibull_args)\n",
    "\n",
    "def _plot_distr(distr, ax=None):\n",
    "    \n",
    "    x = np.sort(distr.sample((5000, )).numpy())\n",
    "    pdf = np.exp(distr.log_prob(torch.tensor(x))).numpy()\n",
    "    plt.plot(x, pdf, axes=ax)\n",
    "    plt.grid()\n",
    "    \n",
    "_plot_distr(input_distr)\n"
   ]
  },
  {
   "cell_type": "code",
   "execution_count": 20,
   "id": "ac635141-a157-4b77-8db2-1f5f5af7724c",
   "metadata": {
    "tags": []
   },
   "outputs": [],
   "source": [
    "lw_distr = torchlambertw.distributions.TailLambertWDistribution(\n",
    "    base_distribution=torch.distributions.Weibull,\n",
    "    base_dist_args=weibull_args,\n",
    "    use_mean_variance=False,\n",
    "    tailweight=0.5)"
   ]
  },
  {
   "cell_type": "code",
   "execution_count": 21,
   "id": "3fa672c1-a813-495a-9d0a-c0bfc26cd1ca",
   "metadata": {
    "tags": []
   },
   "outputs": [
    {
     "data": {
      "text/plain": [
       "<matplotlib.legend.Legend at 0x7fc8819518b0>"
      ]
     },
     "execution_count": 21,
     "metadata": {},
     "output_type": "execute_result"
    },
    {
     "data": {
      "image/png": "[encoded data removed]",
      "text/plain": [
       "<Figure size 432x288 with 1 Axes>"
      ]
     },
     "metadata": {},
     "output_type": "display_data"
    }
   ],
   "source": [
    "torch.manual_seed(10)\n",
    "\n",
    "fig, ax = plt.subplots(1,1, facecolor=(1, 1, 1))\n",
    "_plot_distr(input_distr, ax=ax)\n",
    "_plot_distr(lw_distr, ax=ax)\n",
    "plt.grid()\n",
    "plt.legend([\"Weibull\", \"Lambert W x Weibull\"])"
   ]
  },
  {
   "cell_type": "code",
   "execution_count": null,
   "id": "65703395-9d7d-4a1e-936f-bbc8f95d610d",
   "metadata": {},
   "outputs": [],
   "source": []
  }
 ],
 "metadata": {
  "kernelspec": {
   "display_name": "Python 3",
   "language": "python",
   "name": "python3"
  },
  "language_info": {
   "codemirror_mode": {
    "name": "ipython",
    "version": 3
   },
   "file_extension": ".py",
   "mimetype": "text/x-python",
   "name": "python",
   "nbconvert_exporter": "python",
   "pygments_lexer": "ipython3",
   "version": "3.8.10"
  }
 },
 "nbformat": 4,
 "nbformat_minor": 5
}
